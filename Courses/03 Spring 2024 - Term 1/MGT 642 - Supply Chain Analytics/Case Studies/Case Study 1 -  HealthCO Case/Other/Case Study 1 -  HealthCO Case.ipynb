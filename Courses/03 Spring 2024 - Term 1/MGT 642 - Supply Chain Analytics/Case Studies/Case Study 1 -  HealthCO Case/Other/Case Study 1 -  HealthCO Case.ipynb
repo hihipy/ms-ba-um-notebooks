{
 "cells": [
  {
   "cell_type": "markdown",
   "source": [
    "# Case Study 1 - HealthCO Case Study\n",
    "\n",
    "Due Date: February 01, 2024\n",
    "\n",
    "- Bachas-Daunert, Philip  \n",
    "- Dong, Qian\n",
    "- Yuan, Xiaoxi\n",
    "- Zhao, Hongyan"
   ],
   "metadata": {
    "collapsed": false,
    "id": "2087a0c51260f5ab"
   },
   "id": "2087a0c51260f5ab"
  },
  {
   "cell_type": "markdown",
   "source": [
    "## Introduction"
   ],
   "metadata": {
    "collapsed": false,
    "id": "dd1b57ae9bccadd9"
   },
   "id": "dd1b57ae9bccadd9"
  },
  {
   "cell_type": "markdown",
   "source": [
    "### Company Background\n",
    "\n",
    "HealthCo is a prominent, national distributor of medical supplies. Its primary customers include hospitals, doctor offices, outpatient clinics, and Managed Care facilities. Over many decades, HealthCo has built a reputation for providing excellent service and a fully integrated product line. The vast majority of its customers have come to expect next-day service for nearly the entire product portfolio. Typically, customers place their orders in the afternoon and receive deliveries during the first half of the following business day.\n",
    "\n",
    "To facilitate this level of service, HealthCo operates a large network of distribution centers (DCs) across the nation. The number of DCs is strategically determined to ensure deliveries within the allowable 12-24 hour timeframe, necessitating proximity to the customers. Deliveries are managed using leased trucks. These are dedicated leases, giving HealthCo some control over the drivers and allowing the display of the company logo on the trucks' sides. The trucks depart the DCs early in the morning, following standardized routes. This is crucial as most customers, especially hospitals that aim to minimize the use of their expensive real estate for storage, receive deliveries daily.\n",
    "\n",
    "In addition to the local market DCs, HealthCo also operates a few larger DCs. These serve as hubs for holding backup inventory or consolidating purchases from multiple vendors.\n",
    "\n",
    "### Product Portfolio\n",
    "\n",
    "HealthCo's product portfolio is incredibly broad, and the characteristics of its products vary significantly. However, they all share the common requirement of next-day delivery. Understanding the vast range of offerings is crucial:\n",
    "\n",
    "- HealthCo stocks over 100,000 Stock Keeping Units (SKUs).\n",
    "- The product range includes both bulky or heavy and inexpensive items, such as paper hand towels and basic saline solutions, priced under $20 per case/container. On the other extreme, sutures (kits for wound closure) can cost several hundred dollars while weighing less than half an ounce.\n",
    "- Many items have large volumes with steady consumption, as they are routinely purchased by most customers. Examples include alcohol pads, bandages, and scalpels. Conversely, some items may sell only to a single customer because HealthCo is committed to offering any SKU demanded by any of its significantly large customers. For example, a doctor in a particular hospital may require a special surgical kit (e.g., a packaged unit of multiple items needed for a specific surgery, such as tonsil removal), which is also sold only in small quantities. Many items sell less than a few units per month.\n",
    "- Certain items can experience high volatility. For instance, products related to flu and cold treatment may see their demand spike sharply if the flu season is particularly severe or if an event like a SARS scare occurs.\n",
    "- Given the volumes and size of its business, HealthCo orders weekly from most suppliers for each Distribution Center (DC). Most suppliers ship immediately from their own stock, and deliveries are received within a couple of days. However, there is a range of scenarios. Some specialized items may require months of supplier lead time to fulfill an order. In other cases, suppliers may face quality issues (e.g., failure of sterilization tests) and could be out of stock for months.\n",
    "\n",
    "### The Need for Better Inventory Management\n",
    "\n",
    "Due to product complexity, HealthCo relies primarily on enterprise IT systems like SAP or Oracle Supply Chain modules. These systems manage inventory using standard algorithms. However, a large team of planners monitors inventory positions and intervenes manually when issues arise. Additionally, DC managers have significant discretion to override orders.\n",
    "\n",
    "Despite this hybrid approach, HealthCo achieves a 97% service level (line-fill, meaning complete order fulfillment on next delivery). However, facing increased competition and market pressure for enhanced performance and shrinking margins, the Supply Chain team must reduce inventory and lower capital requirements.\n",
    "\n",
    "Toni Morgan, head of the Supply Chain Special Projects team, is tasked with identifying inventory management strategies and targets to achieve these objectives. She begins by studying representative SKUs within a single DC, arguing that customer demands necessitate independent inventory per SKU at each DC."
   ],
   "metadata": {
    "collapsed": false,
    "id": "3d2ffa21e2243858"
   },
   "id": "3d2ffa21e2243858"
  },
  {
   "cell_type": "markdown",
   "source": [
    "## Questions"
   ],
   "metadata": {
    "collapsed": false,
    "id": "609d9626ed217b14"
   },
   "id": "609d9626ed217b14"
  },
  {
   "cell_type": "markdown",
   "source": [
    "### Question 1\n",
    "\n",
    "Scalpel Blades: Most customers buy scalpel blades, and Toni begins her analysis by examining this common SKU. The DC ships, on average, 341 boxes of these blades per day, typically one box per customer. The demand is quite stable, with a standard deviation of 38 boxes per day. A box of blades costs $20."
   ],
   "metadata": {
    "collapsed": false,
    "id": "b612cb12d50e4353"
   },
   "id": "b612cb12d50e4353"
  },
  {
   "cell_type": "markdown",
   "source": [
    "#### Question 1.a\n",
    "\n",
    "Scalpel blades are purchased from a single supplier who also provides many other SKUs. The supplier ships daily. While any quantity can be ordered, only orders in multiples of full pallets (2,400 boxes per pallet) qualify for the negotiated price. Smaller quantities incur a 3% surcharge. Assuming no additional \"per order costs\" (as is typical) and a capital/storage cost of 10%, what is the economic order quantity (EOQ) for these scalpel blades? What order quantity would you recommend?\n",
    "\n",
    "---\n",
    "\n",
    "#### Answer 1.a\n",
    "\n",
    "**Scenario 1**\n",
    "\n",
    "Total order to meet demand:\n",
    "\n",
    "$$\n",
    "\\textrm{Total Order} = \\frac{341 \\times 365}{\\text{2400 pallet size}} = 51.86 \n",
    "$$\n",
    "\n",
    "Holding cost if 52 pallets ordered: \n",
    "\n",
    "$$\n",
    "\\textrm{Holding Cost (52 pallets)} = \\$124,800  \n",
    "$$\n",
    "\n",
    "Holding cost if 1 pallet ordered per week:\n",
    "\n",
    "$$\n",
    "\\textrm{Holding Cost (weekly)} = \\frac{\\text{pallet size}}{2} \\times \\$20 \\times 10\\% = \\$2,400\n",
    "$$\n",
    "\n",
    "Ordering weekly has lower total cost since it avoids surcharge.\n",
    "\n",
    "**Scenario 2**\n",
    "\n",
    "Assumptions:  \n",
    "\n",
    "$$\n",
    "\\\\begin{aligned}\n",
    "& \\\\bullet \\\\; \\\\textrm{Daily orders} \\\\\\\\  \n",
    "& \\\\bullet \\\\; \\\\textrm{Target 97\\\\% service level} \\\\\\\\\n",
    "& \\\\bullet \\\\; \\\\textrm{Order quantity determined by demand STD DEV}\n",
    "\\\\end{aligned}\n",
    "$$\n",
    "\n",
    "Order Details:   \n",
    "\n",
    "$$\n",
    "\\\\begin{aligned}\n",
    "& \\\\textrm{Units per order:} \\\\; 412 \\\\\\\\\n",
    "& \\\\textrm{Annual orders:} \\\\; 302  \n",
    "\\\\end{aligned}\n",
    "$$\n",
    "\n",
    "Costs:  \n",
    "\n",
    "$$\n",
    "\\\\begin{aligned} \n",
    "& \\\\textrm{Surcharge per order} = \\\\$247.20 \\\\\\\\\n",
    "& \\\\textrm{Total Surcharges} = 302 \\\\times \\\\$247.20 = \\\\$74,654.40 \\\\\\\\\n",
    "& \\\\textrm{Holding Cost} = 412 \\\\textrm{ avg. units} \\\\times \\\\$2 \\\\textrm{ per unit} \\\\times 1 \\\\textrm{ year} = \\\\$824 \\\\\\\\\n",
    "& \\\\textrm{Total Annual Cost} = \\\\$74,654.40 + \\\\$824 = \\\\$75,478.40\n",
    "\\\\end{aligned}\n",
    "$$"
   ],
   "metadata": {
    "collapsed": false,
    "id": "7c67b5386d21ea1a"
   },
   "id": "7c67b5386d21ea1a"
  },
  {
   "cell_type": "code",
   "outputs": [],
   "source": [],
   "metadata": {
    "collapsed": false
   },
   "id": "e8eb9027cb989187"
  },
  {
   "cell_type": "markdown",
   "source": [],
   "metadata": {
    "id": "AVulmWtJ98iZ"
   },
   "id": "AVulmWtJ98iZ"
  },
  {
   "cell_type": "markdown",
   "source": [
    "#### Question 1.b\n",
    "\n",
    "Assuming Toni is targeting a 98% cycle service level and a replenishment order can be filled within seven days (an order can be placed any day of the week), what is the resulting safety stock? What is the overall average inventory?\n",
    "\n",
    "----------------------\n",
    "\n",
    "#### Answer 1.b\n",
    "\n",
    "**1. Calculate Safety Stock:**  \n",
    "\n",
    "$$ \\text{Safety Stock} = $Z$ \\times $\\sigma_L$ $$\n",
    "\n",
    "Where:\n",
    " \n",
    "\\- $Z$ is the Z-score corresponding to the desired service level (98% in this case).  \n",
    "\n",
    "\\- $\\sigma_L$ is the standard deviation of demand during the lead time.\n",
    "\n",
    "**2. Calculate Average Inventory:**\n",
    "\n",
    "$$ $\\sigma_L$ = $\\sigma_D$ \\times \\sqrt{$L$} $$  \n",
    "\n",
    "Where:\n",
    "\n",
    "\\- $\\sigma_D$ is the daily demand standard deviation.  \n",
    "\n",
    "\\- $L$ is the lead time in days.\n",
    "\n",
    "Please see below for code and output.\n",
    "\n"
   ],
   "metadata": {
    "collapsed": false,
    "id": "960fe343f3cce665"
   },
   "id": "960fe343f3cce665"
  },
  {
   "cell_type": "code",
   "outputs": [
    {
     "name": "stdout",
     "output_type": "stream",
     "text": [
      "Z-score for 98% service level: 2.05\n",
      "Safety Stock: 207 boxes\n",
      "Overall Average Inventory: 2,594 boxes\n"
     ]
    }
   ],
   "source": [
    "import numpy as np\n",
    "import math\n",
    "from scipy.stats import norm\n",
    "\n",
    "# Define parameters\n",
    "daily_demand_mean = 341  # average daily demand\n",
    "daily_demand_std = 38  # standard deviation of daily demand\n",
    "lead_time_days = 7  # replenishment lead time in days\n",
    "service_level = 0.98  # target cycle service level\n",
    "cost_per_box = 20  # cost per box of blades\n",
    "\n",
    "# Calculate the Z-score for the desired service level\n",
    "z_score = norm.ppf(service_level)\n",
    "\n",
    "# Calculate the standard deviation of demand during the lead time\n",
    "std_demand_lead_time = daily_demand_std * np.sqrt(lead_time_days)\n",
    "\n",
    "# Calculate safety stock\n",
    "safety_stock = z_score * std_demand_lead_time\n",
    "\n",
    "# Calculate average demand during the lead time\n",
    "average_demand_lead_time = daily_demand_mean * lead_time_days\n",
    "\n",
    "# Calculate overall average inventory\n",
    "overall_average_inventory = average_demand_lead_time + safety_stock\n",
    "\n",
    "# Display the results\n",
    "print(f\"Z-score for 98% service level: {z_score:.2f}\")\n",
    "print(f\"Safety Stock: {math.ceil(safety_stock):,} boxes\")\n",
    "print(f\"Overall Average Inventory: {math.ceil(overall_average_inventory):,} boxes\")\n"
   ],
   "metadata": {
    "id": "78784759c7c083cc",
    "outputId": "ef85910c-cc6c-4011-c9ff-357c1cbaec1a",
    "ExecuteTime": {
     "end_time": "2024-02-01T13:33:49.423987Z",
     "start_time": "2024-02-01T13:33:48.973286Z"
    }
   },
   "id": "78784759c7c083cc",
   "execution_count": 2
  },
  {
   "cell_type": "markdown",
   "source": [
    "#### Question 1.c\n",
    "\n",
    "Currently, HealthCo employs a standard practice of holding \"two weeks' safety stock\" for all SKUs, a common approach in the industry. Considering the stable demand and predictable lead time observed for scalpel blades, what percentage of inventory could HealthCo potentially save if they adopted a more tailored approach for similar SKUs?\n",
    "\n",
    "----------------------\n",
    "\n",
    "#### Answer 1.c\n",
    "\n",
    "1. **Current Safety Stock Calculation:** The current safety stock is calculated based on a simple rule of holding two weeks' worth of inventory.\n",
    "\n",
    "$$ \\text{Current Safety Stock} = \\text{Average Daily Demand} \\times \\text{Lead Time in Days (2 weeks)} $$\n",
    "\n",
    "where:\n",
    " \n",
    "- $\\text{Average Daily Demand}$ is the average number of units demanded per day.\n",
    "\n",
    "- $\\text{Lead Time in Days}$ is set to 14 days, representing two weeks.\n",
    "\n",
    "2. **Suggested Safety Stock Calculation:** The suggested safety stock is calculated using the service level and the variability in demand.\n",
    "\n",
    "$$ \\text{Suggested Safety Stock} = Z \\times \\text{Demand Standard Deviation} \\times \\sqrt{\\text{Lead Time in Days}} $$\n",
    "\n",
    "where:\n",
    "\n",
    "- $Z$ is the Z-score corresponding to the desired service level (here, 98%).\n",
    "\n",
    "- $\\text{Demand Standard Deviation}$ represents the variability in demand. \n",
    "\n",
    "- $\\text{Lead Time in Days}$ is the time required to replenish the stock.\n",
    "\n",
    "3. **Average Inventory Calculation:** The average inventory is the sum of the product needed to meet the average demand during the lead time and the safety stock.\n",
    "\n",
    "$$ \\text{Current Average Inventory} = (\\text{Average Daily Demand} \\times \\text{Lead Time}) + \\text{Current Safety Stock} $$\n",
    "\n",
    "$$ \\text{Suggested Average Inventory} = (\\text{Average Daily Demand} \\times \\text{Lead Time}) + \\text{Suggested Safety Stock} $$  \n",
    "\n",
    "4. **Percentage Inventory Savings Calculation:** The inventory savings are calculated as the percentage reduction from the current average inventory to the suggested average inventory.\n",
    "\n",
    "$$ \\text{Inventory Savings} = \\frac{\\text{Current Average Inventory} - \\text{Suggested Average Inventory}}{\\text{Current Average Inventory}} \\times 100\\% $$\n",
    "\n",
    "Please see below for code and output.\n"
   ],
   "metadata": {
    "collapsed": false,
    "id": "92da61bb9ead0f30"
   },
   "id": "92da61bb9ead0f30"
  },
  {
   "cell_type": "code",
   "outputs": [
    {
     "name": "stdout",
     "output_type": "stream",
     "text": [
      "Potential inventory savings: 63.78%\n"
     ]
    }
   ],
   "source": [
    "# Current parameters\n",
    "average_daily_demand = 341\n",
    "demand_std_dev = 38\n",
    "lead_time = 7 # days\n",
    "\n",
    "# Calculate current safety stock (2 weeks)\n",
    "current_safety_stock = average_daily_demand * 14\n",
    "\n",
    "# Calculate suggested safety stock\n",
    "service_level = 0.98\n",
    "z_score = norm.ppf(service_level)\n",
    "suggested_safety_stock = z_score * demand_std_dev * math.sqrt(lead_time)\n",
    "\n",
    "# Calculate current and suggested average inventory\n",
    "current_avg_inventory = average_daily_demand * lead_time + current_safety_stock\n",
    "suggested_avg_inventory = average_daily_demand * lead_time + suggested_safety_stock\n",
    "\n",
    "# Calculate percentage inventory savings\n",
    "inventory_savings = 100*(current_avg_inventory - suggested_avg_inventory)/current_avg_inventory\n",
    "\n",
    "print(f\"Potential inventory savings: {round(inventory_savings,2)}%\")\n"
   ],
   "metadata": {
    "id": "4146fc4b51bd8bfb",
    "outputId": "db371b89-c917-4805-fc14-2237d7dd319b",
    "ExecuteTime": {
     "end_time": "2024-02-01T13:33:49.426693Z",
     "start_time": "2024-02-01T13:33:49.424173Z"
    }
   },
   "id": "4146fc4b51bd8bfb",
   "execution_count": 3
  },
  {
   "cell_type": "markdown",
   "source": [
    "### Question 2\n",
    "\n",
    "A special antimicrobial bandage experiences high demand, averaging 614 units per month. While they're sold individually, purchasing them in boxes of 800 yields a significantly lower price. Although the standard deviation reaches 810 units per month, indicating potential demand fluctuations, replenishment is remarkably swift, requiring just one day!\n",
    "\n",
    "**Monthly Demand Table:**\n",
    "\n",
    "\n",
    "| Month     | Demand |\n",
    "|-----------|--------|\n",
    "| January   | 800    |\n",
    "| February  | 0      |\n",
    "| March     | 1600   |\n",
    "| April     | 0      |\n",
    "| May       | 0      |\n",
    "| June      | 800    |\n",
    "| July      | 1600   |\n",
    "| August    | 0      |\n",
    "| September | 0      |\n",
    "| October   | 2400   |\n",
    "| November  | 0      |\n",
    "| December  | 800    |\n",
    "\n",
    "\n",
    "**Statistical Data Table:**\n",
    "\n",
    "\n",
    "| Measurement  | Value        |\n",
    "|--------------|--------------|\n",
    "| Average      | 666.6666667  |\n",
    "| Stdev        | 823.8858409  |\n",
    "| Daily stddev | 150.4202866  |\n",
    "\n",
    "\n",
    "**Actual Order Data Table:**\n",
    "\n",
    "\n",
    "| Order # | Date     | CustomerID | Qty  | Order Date | Days Since Last Order |\n",
    "|---------|----------|------------|------|------------|-----------------------|\n",
    "| 1       | 1/7/18   | 47110124   | 800  | 12/31/17   | 7                     |\n",
    "| 2       | 3/20/18  | 47110124   | 1600 | 12/31/17   | 79                    |\n",
    "| 3       | 6/14/18  | 47110124   | 800  | 12/31/17   | 165                   |\n",
    "| 4       | 7/31/18  | 47110124   | 1600 | 12/31/17   | 212                   |\n",
    "| 5       | 10/3/18  | 47110124   | 1600 | 12/31/17   | 276                   |\n",
    "| 6       | 10/27/18 | 47110124   | 800  | 12/31/17   | 300                   |\n",
    "| 7       | 12/13/18 | 47110124   | 800  | 12/31/17   | 347                   |"
   ],
   "metadata": {
    "collapsed": false,
    "id": "b29b09983d38a8d2"
   },
   "id": "b29b09983d38a8d2"
  },
  {
   "cell_type": "markdown",
   "source": [
    "#### Question 2.a\n",
    "\n",
    "What does the standard formula suggest as the safety stock target for a 98% cycle service level?\n",
    "\n",
    "----------------------\n",
    "\n",
    "#### Answer 2.a\n",
    "\n",
    "Here is the question and answer formatted properly:\n",
    "\n",
    "1\\. **Z-Score Calculation:**\n",
    "\n",
    "The Z-score is a statistical measure that represents the number of standard deviations an element is from the mean. For inventory management, it is used to determine the safety stock level corresponding to a certain service level.\n",
    "\n",
    "$$ Z = \\Phi^{-1}(\\text{Service Level}) $$\n",
    "\n",
    "where:\n",
    "\n",
    "\\- $\\Phi^{-1}$ is the inverse of the cumulative distribution function (CDF) for the standard normal distribution.\n",
    "\n",
    "\\- $\\text{Service Level}$ is the probability of not running out of stock, expressed as a decimal (0.98 for 98%).\n",
    "\n",
    "2\\. **Safety Stock Formula:**  \n",
    "\n",
    "The safety stock is the inventory kept to mitigate the risk of stockouts due to demand variability and lead time uncertainty.\n",
    "\n",
    "$$ \\text{Safety Stock} = Z \\times \\text{Demand Standard Deviation} \\times \\sqrt{\\text{Lead Time}} $$\n",
    "\n",
    "where:\n",
    "\n",
    "\\- $Z$ is the Z-score corresponding to the desired service level.  \n",
    "\n",
    "\\- $\\text{Demand Standard Deviation}$ is a measure of the variability or dispersion of the demand.\n",
    "\n",
    "\\- $\\text{Lead Time}$ is the time required to replenish inventory, expressed in the same time units used for the demand.\n",
    "\n",
    "Please see below for code and output."
   ],
   "metadata": {
    "collapsed": false,
    "id": "b5d5533df6c35531"
   },
   "id": "b5d5533df6c35531"
  },
  {
   "cell_type": "code",
   "outputs": [
    {
     "name": "stdout",
     "output_type": "stream",
     "text": [
      "Safety stock for 98.0% service level: 1,693\n"
     ]
    }
   ],
   "source": [
    "# Key parameters\n",
    "average_demand = 614\n",
    "demand_stddev = 823.8858409\n",
    "lead_time = 1 # in days\n",
    "\n",
    "# Target service level\n",
    "target_service_level = 0.98\n",
    "\n",
    "# Calculate z-score\n",
    "z_score = norm.ppf(target_service_level)\n",
    "\n",
    "# Formula for safety stock\n",
    "safety_stock = z_score * demand_stddev * math.sqrt(lead_time)\n",
    "\n",
    "# Print safety stock\n",
    "print(f'Safety stock for {target_service_level*100}% service level: '\n",
    "      f'{math.ceil(safety_stock):,}')\n"
   ],
   "metadata": {
    "id": "38ec2267d09fce30",
    "outputId": "73d674e4-d26d-454d-fc35-cd26db9fdcbb",
    "ExecuteTime": {
     "end_time": "2024-02-01T13:33:49.429252Z",
     "start_time": "2024-02-01T13:33:49.426558Z"
    }
   },
   "id": "38ec2267d09fce30",
   "execution_count": 4
  },
  {
   "cell_type": "markdown",
   "source": [
    "#### Question 2.b\n",
    "\n",
    "What would the current IT system suggest at the standard 2 weeks of supply safety stock?\n",
    "\n",
    "\n",
    "----------------------\n",
    "\n",
    "\n",
    "#### Answer 2.b\n",
    "\n",
    "Here is the formatted summary with the additional formulas:\n",
    "\n",
    "1. **Average Weekly Demand Calculation:** To determine the average weekly demand, the average monthly demand is divided by the number of weeks in a month, typically assumed to be 4. \n",
    "\n",
    "$$ \\text{Average Weekly Demand} = \\frac{\\text{Average Monthly Demand}}{4} $$\n",
    "\n",
    "where:\n",
    "\n",
    "\\- $\\text{Average Monthly Demand}$ is the average number of units demanded per month.\n",
    "\n",
    "2. **Standard Safety Stock Calculation:** The safety stock is calculated as the product of the average weekly demand and the number of weeks for the safety stock, which is 2 weeks in this case.\n",
    "\n",
    "$$ \\text{Safety Stock} = \\text{Average Weekly Demand} \\times \\text{Number of Weeks} $$\n",
    "\n",
    "where: \n",
    "\n",
    "\\- $\\text{Average Weekly Demand}$ is calculated from the previous step.\n",
    "\n",
    "\\- $\\text{Number of Weeks}$ is the duration for which the safety stock is to be maintained.\n",
    "\n",
    "3. **Adjustment to Order Quantity:** The calculated safety stock is then adjusted to match multiples of the order quantity, which is the size of a standard box of units in this case.\n",
    "\n",
    "$$ \\text{Adjusted Safety Stock} = \\left\\lceil{\\frac{\\text{Safety Stock}}{\\text{Order Quantity}}}\\right\\rceil \\times \\text{Order Quantity} $$\n",
    "\n",
    "where:\n",
    "\n",
    "\\- $\\left\\lceil \\cdot \\right\\rceil$ represents the ceiling function, which rounds up to the nearest whole number or order quantity. \n",
    "\n",
    "\\- $\\text{Order Quantity}$ is the standard box size or the minimum order quantity.\n",
    "\n",
    "Please see below for code and output."
   ],
   "metadata": {
    "collapsed": false,
    "id": "9ff020d338adf73c"
   },
   "id": "9ff020d338adf73c"
  },
  {
   "cell_type": "code",
   "outputs": [
    {
     "name": "stdout",
     "output_type": "stream",
     "text": [
      "Standard 2 weeks safety stock: 800 units\n"
     ]
    }
   ],
   "source": [
    "# Key parameters\n",
    "avg_monthly_demand = 614\n",
    "order_quantity = 800\n",
    "\n",
    "# 2 weeks demand\n",
    "num_weeks = 2\n",
    "\n",
    "# Calculate average weekly demand\n",
    "avg_weekly_demand = avg_monthly_demand / 4\n",
    "\n",
    "# Safety stock = 2 weeks of average demand\n",
    "safety_stock = math.ceil(avg_weekly_demand * num_weeks)\n",
    "\n",
    "# Round up safety stock to order quantity\n",
    "safety_stock = math.ceil(safety_stock / order_quantity) * order_quantity\n",
    "\n",
    "# Print safety stock\n",
    "print(f\"Standard 2 weeks safety stock: {safety_stock} units\")\n"
   ],
   "metadata": {
    "id": "168406c3332ed71b",
    "outputId": "69b75384-19c3-457f-d4f3-0ad843c86a9b",
    "ExecuteTime": {
     "end_time": "2024-02-01T13:33:49.431977Z",
     "start_time": "2024-02-01T13:33:49.429113Z"
    }
   },
   "id": "168406c3332ed71b",
   "execution_count": 5
  },
  {
   "cell_type": "markdown",
   "source": [
    "#### Question 2.c\n",
    "\n",
    "Consider the Markdown tables above that shows order data. What do you think is actually happening? What would you suggest that Toni analyze next?\n",
    "\n",
    "----------------------\n",
    "\n",
    "#### Answer 2.c\n",
    "\n",
    "\n",
    "The current IT system would suggest 2 weeks of average demand as safety stock, but the order data shows intermittent demand with multiple periods of 0 demand followed by a spike of orders. This means the standard 2 weeks coverage will be inadequate to meet the peaks when they occur.\n",
    "\n",
    "I would suggest Toni analyze:\n",
    "\n",
    "1. Frequency and level of stock-outs historically\n",
    "\n",
    "2. Customer service level metric trends  \n",
    "\n",
    "3. Lead time data - is 1 day realistic?  \n",
    "\n",
    "4. Demand forecast accuracy  \n",
    "\n",
    "5. Implement improved stochastic/dynamic safety stock models"
   ],
   "metadata": {
    "collapsed": false,
    "id": "ca6f3e7a20f7e5c1"
   },
   "id": "ca6f3e7a20f7e5c1"
  },
  {
   "cell_type": "markdown",
   "source": [
    "### Question 3\n",
    "\n",
    "A custom surgery kit, designed by an orthopedic surgeon, is ordered only three times per year. These kits are assembled from standard parts in a sub-operation with a one-week lead time. How should Toni manage and optimize inventory for this item?\n",
    "\n",
    "----------------------\n",
    "\n",
    "#### Answer 3\n",
    "\n",
    " Here is my suggestion for managing inventory of the custom surgery kits in more simple language:\n",
    "\n",
    "- The kits are ordered only 3 times a year, so demand is very low.  \n",
    "\n",
    "- It takes time to get the parts from the supplier and then assemble the kits - about 7 days each.\n",
    "\n",
    "- With low demand, I would not keep kits in stock. But check the costs.  \n",
    "\n",
    "- See what works best in total - it may be faster or cheaper not to use the warehouse.\n",
    "\n",
    "My suggestions:\n",
    "\n",
    "- Do not keep extra kits in stock because only 3 orders come per year. Keeping extra kits would be wasteful.\n",
    "\n",
    "- Only start making the kits after a real order comes in. That way you don't waste money on unusable kits that sit waiting.\n",
    "\n",
    "- Consider shipping directly from the part supplier to the customer. This saves an extra step of moving to and from the warehouse.\n",
    "\n",
    "- Look at the costs of:\n",
    "\n",
    "  * Holding kits in inventory  \n",
    "  * Setting up equipment and people to make the kits each time\n",
    "  * Making customers wait for the kits"
   ],
   "metadata": {
    "collapsed": false,
    "id": "343dd6625b182365"
   },
   "id": "343dd6625b182365"
  },
  {
   "cell_type": "markdown",
   "source": [
    "### Question 4\n",
    "\n",
    "A rarely used suture sells just 20 individual units per week, with a weekly standard deviation of 10. HealthCo must purchase them from the supplier in boxes of 500, with a lead time of one week. To achieve a 98% fill rate, how should Toni approach the issue of safety stock for this item?\n",
    "\n",
    "----------------------\n",
    "\n",
    "#### Answer 4\n",
    "\n",
    "To calculate the safety stock, we first define the parameters:\n",
    "\n",
    "- Weekly demand ($d$): 20 units \n",
    "- Standard deviation of weekly demand (${\\sigma}_d$): 10 units\n",
    "- Lead time ($L$): 1 week\n",
    "- Target service level ($SL$): 98\\%\n",
    "\n",
    "Then the annual demand $D$ is calculated by multiplying the weekly demand by 52 weeks:\n",
    "\n",
    "$D = d \\times 52$\n",
    "\n",
    "The $z$-score $z$ corresponding to the target service level is calculated from the normal distribution:\n",
    "\n",
    "$z = \\Phi^{-1}(SL)$\n",
    "\n",
    "Where $\\Phi^{-1}$ is the inverse normal cumulative distribution function.\n",
    "\n",
    "Finally, the safety stock $SS$ is calculated using the formula:\n",
    "\n",
    "$SS = z \\times {\\sigma}_d \\sqrt{L}$\n",
    "\n",
    "Please see below for code and output."
   ],
   "metadata": {
    "collapsed": false,
    "id": "9c7a97d5ed150542"
   },
   "id": "9c7a97d5ed150542"
  },
  {
   "cell_type": "code",
   "outputs": [
    {
     "name": "stdout",
     "output_type": "stream",
     "text": [
      "Safety stock: 21\n"
     ]
    }
   ],
   "source": [
    "# Parameters\n",
    "weekly_demand = 20\n",
    "demand_stddev = 10\n",
    "lead_time = 1\n",
    "target_service_level = 0.98\n",
    "\n",
    "# Calculate safety stock\n",
    "yearly_demand = weekly_demand * 52\n",
    "z_score = norm.ppf(target_service_level)\n",
    "safety_stock = z_score * demand_stddev * math.sqrt(lead_time)\n",
    "\n",
    "# Print safety stock\n",
    "print(f\"Safety stock: {math.ceil(safety_stock)}\")\n"
   ],
   "metadata": {
    "id": "69d3a4e63c7de69d",
    "outputId": "2aa519a2-de1a-486a-aae9-6ab16108df23",
    "ExecuteTime": {
     "end_time": "2024-02-01T13:33:49.432593Z",
     "start_time": "2024-02-01T13:33:49.431201Z"
    }
   },
   "id": "69d3a4e63c7de69d",
   "execution_count": 6
  },
  {
   "cell_type": "markdown",
   "source": [
    "### Question 5 (Optional - Extra Credit)\n",
    "\n",
    "In contrast to the scalpel blades from question 1, whose supplier accepts daily orders, most other suppliers operate on a fixed weekly schedule. Under this model, orders placed on a designated day, say Tuesday, would be delivered the following Tuesday. Applying this approach to the scalpel blades, what would the necessary safety stock and average inventory be?\n",
    "\n",
    "----------------------\n",
    "\n",
    "#### Answer 5 (Optional - Extra Credit)\n",
    "\n",
    "This one you cannot answer with a formula this one is more common sense. for open ended question we can play with the simulators from class."
   ],
   "metadata": {
    "collapsed": false,
    "id": "e20ab57be9e5dfe9"
   },
   "id": "e20ab57be9e5dfe9"
  }
 ],
 "metadata": {
  "kernelspec": {
   "display_name": "Python 3",
   "language": "python",
   "name": "python3"
  },
  "language_info": {
   "codemirror_mode": {
    "name": "ipython",
    "version": 2
   },
   "file_extension": ".py",
   "mimetype": "text/x-python",
   "name": "python",
   "nbconvert_exporter": "python",
   "pygments_lexer": "ipython2",
   "version": "2.7.6"
  },
  "colab": {
   "provenance": []
  }
 },
 "nbformat": 4,
 "nbformat_minor": 5
}
