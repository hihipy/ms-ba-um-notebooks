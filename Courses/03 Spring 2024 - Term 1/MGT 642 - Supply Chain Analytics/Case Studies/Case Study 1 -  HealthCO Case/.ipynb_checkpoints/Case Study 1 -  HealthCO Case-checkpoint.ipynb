{
 "cells": [
  {
   "cell_type": "markdown",
   "source": [
    "# Case Study 1 -  HealthCO Case"
   ],
   "metadata": {
    "collapsed": false,
    "id": "2087a0c51260f5ab"
   },
   "id": "2087a0c51260f5ab"
  },
  {
   "cell_type": "markdown",
   "source": [
    "## Introduction"
   ],
   "metadata": {
    "collapsed": false,
    "id": "dd1b57ae9bccadd9"
   },
   "id": "dd1b57ae9bccadd9"
  },
  {
   "cell_type": "markdown",
   "source": [
    "### Company Background\n",
    "\n",
    "HealthCo is a prominent, national distributor of medical supplies. Its primary customers include hospitals, doctor offices, outpatient clinics, and Managed Care facilities. Over many decades, HealthCo has built a reputation for providing excellent service and a fully integrated product line. The vast majority of its customers have come to expect next-day service for nearly the entire product portfolio. Typically, customers place their orders in the afternoon and receive deliveries during the first half of the following business day.\n",
    "\n",
    "To facilitate this level of service, HealthCo operates a large network of distribution centers (DCs) across the nation. The number of DCs is strategically determined to ensure deliveries within the allowable 12-24 hour timeframe, necessitating proximity to the customers. Deliveries are managed using leased trucks. These are dedicated leases, giving HealthCo some control over the drivers and allowing the display of the company logo on the trucks' sides. The trucks depart the DCs early in the morning, following standardized routes. This is crucial as most customers, especially hospitals that aim to minimize the use of their expensive real estate for storage, receive deliveries daily.\n",
    "\n",
    "In addition to the local market DCs, HealthCo also operates a few larger DCs. These serve as hubs for holding backup inventory or consolidating purchases from multiple vendors.\n",
    "\n",
    "### Product Portfolio\n",
    "\n",
    "HealthCo's product portfolio is incredibly broad, and the characteristics of its products vary significantly. However, they all share the common requirement of next-day delivery. Understanding the vast range of offerings is crucial:\n",
    "\n",
    "- HealthCo stocks over 100,000 Stock Keeping Units (SKUs).\n",
    "- The product range includes both bulky or heavy and inexpensive items, such as paper hand towels and basic saline solutions, priced under $20 per case/container. On the other extreme, sutures (kits for wound closure) can cost several hundred dollars while weighing less than half an ounce.\n",
    "- Many items have large volumes with steady consumption, as they are routinely purchased by most customers. Examples include alcohol pads, bandages, and scalpels. Conversely, some items may sell only to a single customer because HealthCo is committed to offering any SKU demanded by any of its significantly large customers. For example, a doctor in a particular hospital may require a special surgical kit (e.g., a packaged unit of multiple items needed for a specific surgery, such as tonsil removal), which is also sold only in small quantities. Many items sell less than a few units per month.\n",
    "- Certain items can experience high volatility. For instance, products related to flu and cold treatment may see their demand spike sharply if the flu season is particularly severe or if an event like a SARS scare occurs.\n",
    "- Given the volumes and size of its business, HealthCo orders weekly from most suppliers for each Distribution Center (DC). Most suppliers ship immediately from their own stock, and deliveries are received within a couple of days. However, there is a range of scenarios. Some specialized items may require months of supplier lead time to fulfill an order. In other cases, suppliers may face quality issues (e.g., failure of sterilization tests) and could be out of stock for months.\n",
    "\n",
    "### The Need for Better Inventory Management\n",
    "\n",
    "Due to product complexity, HealthCo relies primarily on enterprise IT systems like SAP or Oracle Supply Chain modules. These systems manage inventory using standard algorithms. However, a large team of planners monitors inventory positions and intervenes manually when issues arise. Additionally, DC managers have significant discretion to override orders.\n",
    "\n",
    "Despite this hybrid approach, HealthCo achieves a 97% service level (line-fill, meaning complete order fulfillment on next delivery). However, facing increased competition and market pressure for enhanced performance and shrinking margins, the Supply Chain team must reduce inventory and lower capital requirements.\n",
    "\n",
    "Toni Morgan, head of the Supply Chain Special Projects team, is tasked with identifying inventory management strategies and targets to achieve these objectives. She begins by studying representative SKUs within a single DC, arguing that customer demands necessitate independent inventory per SKU at each DC."
   ],
   "metadata": {
    "collapsed": false,
    "id": "3d2ffa21e2243858"
   },
   "id": "3d2ffa21e2243858"
  },
  {
   "cell_type": "markdown",
   "source": [
    "## Questions"
   ],
   "metadata": {
    "collapsed": false,
    "id": "609d9626ed217b14"
   },
   "id": "609d9626ed217b14"
  },
  {
   "cell_type": "markdown",
   "source": [
    "### Question 1\n",
    "\n",
    "Scalpel Blades: Most customers buy scalpel blades, and Toni begins her analysis by examining this common SKU. The DC ships, on average, 341 boxes of these blades per day, typically one box per customer. The demand is quite stable, with a standard deviation of 38 boxes per day. A box of blades costs $20."
   ],
   "metadata": {
    "collapsed": false,
    "id": "b612cb12d50e4353"
   },
   "id": "b612cb12d50e4353"
  },
  {
   "cell_type": "markdown",
   "source": [
    "#### Question 1.a\n",
    "\n",
    "Scalpel blades are purchased from a single supplier who also provides many other SKUs. The supplier ships daily. While any quantity can be ordered, only orders in multiples of full pallets (2,400 boxes per pallet) qualify for the negotiated price. Smaller quantities incur a 3% surcharge. Assuming no additional \"per order costs\" (as is typical) and a capital/storage cost of 10%, what is the economic order quantity (EOQ) for these scalpel blades? What order quantity would you recommend?\n",
    "\n",
    "---------------------------------\n",
    "\n",
    "#### Answer 1.a\n",
    "\n",
    "$$\n",
    "EOQ = \\sqrt{\\frac{2DS}{H}}\n",
    "$$\n",
    "\n",
    "Where:\n",
    "- \\(EOQ\\) represents the Economic Order Quantity.\n",
    "- \\(D\\) stands for the annual demand for the item.\n",
    "- \\(S\\) is the setup or ordering cost per order.\n",
    "- \\(H\\) represents the holding or carrying cost per unit per year.\n",
    "\n",
    "type more here"
   ],
   "metadata": {
    "collapsed": false,
    "id": "7c67b5386d21ea1a"
   },
   "id": "7c67b5386d21ea1a"
  },
  {
   "cell_type": "code",
   "outputs": [
    {
     "name": "stdout",
     "output_type": "stream",
     "text": [
      "Economic Order Quantity (EOQ):\n",
      "  - With surcharge: 352800 boxes\n",
      "  - Without surcharge: 348000 boxes\n",
      "\n",
      "Recommended order quantity: 352800 boxes\n"
     ]
    }
   ],
   "source": [
    "import math\n",
    "\n",
    "# Define variables\n",
    "average_daily_demand = 341\n",
    "demand_std_dev = 38\n",
    "cost_per_box = 20\n",
    "pallets_per_order = 2400\n",
    "surcharge_rate = 0.03\n",
    "holding_cost_rate = 0.1  # 10% annual rate converted to daily rate\n",
    "\n",
    "# Calculate annual demand\n",
    "annual_demand = average_daily_demand * 365\n",
    "\n",
    "# Calculate order cost with and without surcharge\n",
    "order_cost_with_surcharge = cost_per_box * pallets_per_order * (1 + surcharge_rate)\n",
    "order_cost_without_surcharge = cost_per_box * pallets_per_order\n",
    "\n",
    "# Define EOQ formula\n",
    "def calculate_eoq(annual_demand, order_cost, holding_cost_rate):\n",
    "  \"\"\"\n",
    "  Calculates the Economic Order Quantity (EOQ) for a given set of parameters.\n",
    "\n",
    "  Args:\n",
    "    annual_demand: Annual demand for the item.\n",
    "    order_cost: Cost of placing an order.\n",
    "    holding_cost_rate: Daily holding cost rate for the item.\n",
    "\n",
    "  Returns:\n",
    "    The Economic Order Quantity (EOQ).\n",
    "  \"\"\"\n",
    "  return math.sqrt((2 * annual_demand * order_cost) / holding_cost_rate)\n",
    "\n",
    "# Calculate EOQ for both scenarios\n",
    "eoq_with_surcharge = calculate_eoq(annual_demand, order_cost_with_surcharge, holding_cost_rate)\n",
    "eoq_without_surcharge = calculate_eoq(annual_demand, order_cost_without_surcharge, holding_cost_rate)\n",
    "\n",
    "# Round EOQ values to nearest integer pallet quantity\n",
    "eoq_with_surcharge = math.ceil(eoq_with_surcharge / pallets_per_order) * pallets_per_order\n",
    "eoq_without_surcharge = math.ceil(eoq_without_surcharge / pallets_per_order) * pallets_per_order\n",
    "\n",
    "# Print results with EOQ values\n",
    "print(\"Economic Order Quantity (EOQ):\")\n",
    "print(f\"  - With surcharge: {eoq_with_surcharge} boxes\")\n",
    "print(f\"  - Without surcharge: {eoq_without_surcharge} boxes\")\n",
    "\n",
    "# Recommendation\n",
    "if eoq_with_surcharge <= eoq_without_surcharge:\n",
    "  # Order full pallets to avoid surcharge\n",
    "  recommended_order_quantity = eoq_without_surcharge\n",
    "else:\n",
    "  # Order multiple of full pallets closest to EOQ\n",
    "  recommended_order_quantity = math.ceil(eoq_with_surcharge / pallets_per_order) * pallets_per_order\n",
    "\n",
    "print(f\"\\nRecommended order quantity: {recommended_order_quantity} boxes\")\n"
   ],
   "metadata": {
    "collapsed": false,
    "ExecuteTime": {
     "end_time": "2024-01-25T21:23:42.685305Z",
     "start_time": "2024-01-25T21:23:42.679311Z"
    }
   },
   "id": "f2f6cc17b0b67578",
   "execution_count": 1
  },
  {
   "cell_type": "markdown",
   "source": [
    "#### Question 1.b\n",
    "\n",
    "Assuming Toni is targeting a 98% cycle service level and a replenishment order can be filled within seven days (an order can be placed any day of the week), what is the resulting safety stock? What is the overall average inventory?\n",
    "\n",
    "----------------------\n",
    "\n",
    "#### Answer 1.b\n",
    "\n",
    "type here"
   ],
   "metadata": {
    "collapsed": false,
    "id": "960fe343f3cce665"
   },
   "id": "960fe343f3cce665"
  },
  {
   "cell_type": "code",
   "outputs": [],
   "source": [
    "# Insert your code here 1.b"
   ],
   "metadata": {
    "id": "78784759c7c083cc",
    "ExecuteTime": {
     "end_time": "2024-01-25T21:23:42.688602Z",
     "start_time": "2024-01-25T21:23:42.685726Z"
    }
   },
   "id": "78784759c7c083cc",
   "execution_count": 2
  },
  {
   "cell_type": "markdown",
   "source": [
    "#### Question 1.c\n",
    "\n",
    "Currently, HealthCo employs a standard practice of holding \"two weeks' safety stock\" for all SKUs, a common approach in the industry. Considering the stable demand and predictable lead time observed for scalpel blades, what percentage of inventory could HealthCo potentially save if they adopted a more tailored approach for similar SKUs?\n",
    "\n",
    "----------------------\n",
    "\n",
    "#### Answer 1.c\n",
    "\n",
    "type here"
   ],
   "metadata": {
    "collapsed": false,
    "id": "92da61bb9ead0f30"
   },
   "id": "92da61bb9ead0f30"
  },
  {
   "cell_type": "code",
   "outputs": [],
   "source": [
    "# Insert your code here 1.c"
   ],
   "metadata": {
    "id": "4146fc4b51bd8bfb",
    "ExecuteTime": {
     "end_time": "2024-01-25T21:23:42.698876Z",
     "start_time": "2024-01-25T21:23:42.689843Z"
    }
   },
   "id": "4146fc4b51bd8bfb",
   "execution_count": 3
  },
  {
   "cell_type": "markdown",
   "source": [
    "### Question 2\n",
    "\n",
    "A special antimicrobial bandage experiences high demand, averaging 614 units per month. While they're sold individually, purchasing them in boxes of 800 yields a significantly lower price. Although the standard deviation reaches 810 units per month, indicating potential demand fluctuations, replenishment is remarkably swift, requiring just one day!\n",
    "\n",
    "**Monthly Demand Table:**\n",
    "\n",
    "\n",
    "| Month     | Demand |\n",
    "|-----------|--------|\n",
    "| January   | 800    |\n",
    "| February  | 0      |\n",
    "| March     | 1600   |\n",
    "| April     | 0      |\n",
    "| May       | 0      |\n",
    "| June      | 800    |\n",
    "| July      | 1600   |\n",
    "| August    | 0      |\n",
    "| September | 0      |\n",
    "| October   | 2400   |\n",
    "| November  | 0      |\n",
    "| December  | 800    |\n",
    "\n",
    "\n",
    "**Statistical Data Table:**\n",
    "\n",
    "\n",
    "| Measurement  | Value        |\n",
    "|--------------|--------------|\n",
    "| Average      | 666.6666667  |\n",
    "| Stdev        | 823.8858409  |\n",
    "| Daily stddev | 150.4202866  |\n",
    "\n",
    "\n",
    "**Actual Order Data Table:**\n",
    "\n",
    "\n",
    "| Order # | Date     | CustomerID | Qty  | Order Date | Days Since Last Order |\n",
    "|---------|----------|------------|------|------------|-----------------------|\n",
    "| 1       | 1/7/18   | 47110124   | 800  | 12/31/17   | 7                     |\n",
    "| 2       | 3/20/18  | 47110124   | 1600 | 12/31/17   | 79                    |\n",
    "| 3       | 6/14/18  | 47110124   | 800  | 12/31/17   | 165                   |\n",
    "| 4       | 7/31/18  | 47110124   | 1600 | 12/31/17   | 212                   |\n",
    "| 5       | 10/3/18  | 47110124   | 1600 | 12/31/17   | 276                   |\n",
    "| 6       | 10/27/18 | 47110124   | 800  | 12/31/17   | 300                   |\n",
    "| 7       | 12/13/18 | 47110124   | 800  | 12/31/17   | 347                   |"
   ],
   "metadata": {
    "collapsed": false,
    "id": "b29b09983d38a8d2"
   },
   "id": "b29b09983d38a8d2"
  },
  {
   "cell_type": "markdown",
   "source": [
    "#### Question 2.a\n",
    "\n",
    "What does the standard formula suggest as the safety stock target for a 98% cycle service level?\n",
    "\n",
    "----------------------\n",
    "\n",
    "#### Answer 2.a\n",
    "\n",
    "type here"
   ],
   "metadata": {
    "collapsed": false,
    "id": "b5d5533df6c35531"
   },
   "id": "b5d5533df6c35531"
  },
  {
   "cell_type": "code",
   "outputs": [],
   "source": [
    "# Insert your code here 2.a"
   ],
   "metadata": {
    "id": "38ec2267d09fce30",
    "ExecuteTime": {
     "end_time": "2024-01-25T21:23:42.736484Z",
     "start_time": "2024-01-25T21:23:42.700933Z"
    }
   },
   "id": "38ec2267d09fce30",
   "execution_count": 4
  },
  {
   "cell_type": "markdown",
   "source": [
    "#### Question 2.b\n",
    "\n",
    "What would the current IT system suggest at the standard 2 weeks of supply safety stock?\n",
    "\n",
    "----------------------\n",
    "\n",
    "#### Answer 2.b\n",
    "\n",
    "type here"
   ],
   "metadata": {
    "collapsed": false,
    "id": "9ff020d338adf73c"
   },
   "id": "9ff020d338adf73c"
  },
  {
   "cell_type": "code",
   "outputs": [],
   "source": [
    "# Insert your code here 2.b"
   ],
   "metadata": {
    "id": "d6483c7c449ec25",
    "ExecuteTime": {
     "end_time": "2024-01-25T21:23:42.737095Z",
     "start_time": "2024-01-25T21:23:42.702914Z"
    }
   },
   "id": "d6483c7c449ec25",
   "execution_count": 5
  },
  {
   "cell_type": "markdown",
   "source": [
    "#### Question 2.c\n",
    "\n",
    "Consider the Excel file that shows order data. What do you think is actually happening? What would you suggest that Toni analyze next?\n",
    "\n",
    "----------------------\n",
    "\n",
    "#### Answer 2.c\n",
    "\n",
    "type here"
   ],
   "metadata": {
    "collapsed": false,
    "id": "ca6f3e7a20f7e5c1"
   },
   "id": "ca6f3e7a20f7e5c1"
  },
  {
   "cell_type": "code",
   "outputs": [],
   "source": [
    "# Insert your code here 2.c"
   ],
   "metadata": {
    "id": "70bb1521ea003fdd",
    "ExecuteTime": {
     "end_time": "2024-01-25T21:23:42.737412Z",
     "start_time": "2024-01-25T21:23:42.704507Z"
    }
   },
   "id": "70bb1521ea003fdd",
   "execution_count": 6
  },
  {
   "cell_type": "markdown",
   "source": [
    "### Question 3\n",
    "\n",
    "A custom surgery kit, designed by an orthopedic surgeon, is ordered only three times per year. These kits are assembled from standard parts in a sub-operation with a one-week lead time. How should Toni manage and optimize inventory for this item?\n",
    "\n",
    "----------------------\n",
    "\n",
    "#### Answer 3\n",
    "\n",
    "type here"
   ],
   "metadata": {
    "collapsed": false,
    "id": "343dd6625b182365"
   },
   "id": "343dd6625b182365"
  },
  {
   "cell_type": "code",
   "outputs": [],
   "source": [
    "# Insert your code here 3"
   ],
   "metadata": {
    "id": "8f2c5e094f9801ba",
    "ExecuteTime": {
     "end_time": "2024-01-25T21:23:42.737653Z",
     "start_time": "2024-01-25T21:23:42.706568Z"
    }
   },
   "id": "8f2c5e094f9801ba",
   "execution_count": 7
  },
  {
   "cell_type": "markdown",
   "source": [
    "### Question 4\n",
    "\n",
    "A rarely used suture sells just 20 individual units per week, with a weekly standard deviation of 10. HealthCo must purchase them from the supplier in boxes of 500, with a lead time of one week. To achieve a 98% fill rate, how should Toni approach the issue of safety stock for this item?\n",
    "\n",
    "----------------------\n",
    "\n",
    "#### Answer 4\n",
    "\n",
    "type here"
   ],
   "metadata": {
    "collapsed": false,
    "id": "9c7a97d5ed150542"
   },
   "id": "9c7a97d5ed150542"
  },
  {
   "cell_type": "code",
   "outputs": [],
   "source": [
    "# Insert your code here 4"
   ],
   "metadata": {
    "id": "7691044394ff4e63",
    "ExecuteTime": {
     "end_time": "2024-01-25T21:23:42.759587Z",
     "start_time": "2024-01-25T21:23:42.739189Z"
    }
   },
   "id": "7691044394ff4e63",
   "execution_count": 8
  },
  {
   "cell_type": "markdown",
   "source": [
    "### Question 5 (Optional - Extra Credit)\n",
    "\n",
    "In contrast to the scalpel blades from question 1, whose supplier accepts daily orders, most other suppliers operate on a fixed weekly schedule. Under this model, orders placed on a designated day, say Tuesday, would be delivered the following Tuesday. Applying this approach to the scalpel blades, what would the necessary safety stock and average inventory be?\n",
    "\n",
    "----------------------\n",
    "\n",
    "#### Answer 5 (Optional - Extra Credit)\n",
    "\n",
    "type here"
   ],
   "metadata": {
    "collapsed": false,
    "id": "e20ab57be9e5dfe9"
   },
   "id": "e20ab57be9e5dfe9"
  },
  {
   "cell_type": "code",
   "outputs": [],
   "source": [
    "# Insert your code here 5"
   ],
   "metadata": {
    "id": "90a78378ac8b4cf0",
    "ExecuteTime": {
     "end_time": "2024-01-25T21:23:42.765578Z",
     "start_time": "2024-01-25T21:23:42.760338Z"
    }
   },
   "id": "90a78378ac8b4cf0",
   "execution_count": 9
  }
 ],
 "metadata": {
  "kernelspec": {
   "display_name": "Python 3",
   "language": "python",
   "name": "python3"
  },
  "language_info": {
   "codemirror_mode": {
    "name": "ipython",
    "version": 2
   },
   "file_extension": ".py",
   "mimetype": "text/x-python",
   "name": "python",
   "nbconvert_exporter": "python",
   "pygments_lexer": "ipython2",
   "version": "2.7.6"
  },
  "colab": {
   "provenance": []
  }
 },
 "nbformat": 4,
 "nbformat_minor": 5
}
