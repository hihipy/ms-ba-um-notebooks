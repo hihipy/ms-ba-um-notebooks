{
 "cells": [
  {
   "cell_type": "markdown",
   "source": [
    "# Supply Chain Design at AutoCo \n",
    "\n",
    "This case references the automotive parts industry discussion from class, please refer to those materials for understanding the customer needs, typical products &amp; typical parameters of the Supply Chain.\n",
    "\n",
    "Also, this case involves only approximate math similar to what we did in class. Please document your thinking and your answers clearly, this is much more important than getting the numbers exactly right.  \n",
    "\n",
    "If you need a number but feel you don&#39;t have it, make the most reasonable guess that you can think of. Depending on your assumptions, you may get to different answers – that is ok, we are interested in the quality of the thinking behind the math, not the exact answer. For our benefit, please state your assumptions clearly. In addition to noting the important drivers, if you choose to ignore a factor because it is not important in your view, please state what you left out and why."
   ],
   "metadata": {
    "collapsed": false
   },
   "id": "52093226a8b2e893"
  },
  {
   "cell_type": "markdown",
   "source": [
    "## Background \n",
    "\n",
    "After doing such a great job at HealthCo, Toni has taken a new position with a well-funded new company, AutoCo.  \n",
    "\n",
    "AutoCo wants to play in the automotive parts space and become a major competitor to Autozone, Advance Auto Parts, O&#39;Reilly and the other players. Thanks to private equity funding, Toni gets to design and build an optimal Supply Chain infrastructure – no attention needs to be paid to legacy buildings, IT systems, etc.\n",
    "\n",
    "Toni has already designed a national store/professional service local footprint and arrived at a similar footprint and type of in-market facility as the current national players – typical stores of 7500 sqft, with a couple of drivers and delivery vans, servicing both retail as well as the professional market."
   ],
   "metadata": {
    "collapsed": false
   },
   "id": "b06bfbf3f39d7219"
  },
  {
   "cell_type": "markdown",
   "source": [
    "## Questions"
   ],
   "metadata": {
    "collapsed": false
   },
   "id": "2cd0ea8ffff84819"
  },
  {
   "cell_type": "markdown",
   "source": [
    "### 1. Assortment choices in the local stores\n",
    "\n",
    "Toni will obviously stock all the frequently needed retail and professional parts – air filters, brake pads and discs, etc., same as all the other players. However, she is thinking about offering a broader range of products. E.g., the Coral Gables location serves a fair number of repair shops that service very unique cars, such as Professor H&#39;s 1994 Ferrari 348. She is therefore considering how to think about stocking a part locally. \n",
    "\n",
    "For such parts, Toni anticipates a 40% profit margin and no holding costs other than capital costs at 15% per year.\n",
    "\n",
    "a. What is the item velocity (or demand rate) at which it becomes profitable to stock the item locally?\n",
    "\n",
    "b. Professor H has to replace a &#36;1000 brake cylinder on his Ferrari every 3 years. His is the only car in the area that uses these brake cylinders in the area. From an overall Supply Chain perspective, discuss under which conditions you would actually stock the cylinder locally and under which you might not - and what you might do instead. Give some examples with assumptions and numbers for the different choices, assume the EOQ from the manufacturer is 1 unit and the lead time is a couple of days (if you need to)."
   ],
   "metadata": {
    "collapsed": false
   },
   "id": "497f1b47cc3c674a"
  },
  {
   "cell_type": "code",
   "outputs": [
    {
     "name": "stdout",
     "output_type": "stream",
     "text": [
      "Solution Part A:\n",
      "Annual Profit per Unit: $133.33\n",
      "Annual Holding Cost per Unit: $50.00\n",
      "Net Annual Profitability Threshold: $83.33\n",
      "It is profitable to stock the item locally.\n"
     ]
    }
   ],
   "source": [
    "# Re-import necessary libraries and re-define variables after execution state reset\n",
    "from scipy.stats import norm\n",
    "import numpy as np\n",
    "\n",
    "# Given variables\n",
    "cost_of_item = 1000  # Cost of the brake cylinder\n",
    "profit_margin = 0.40  # 40%\n",
    "capital_cost_rate = 0.15  # 15% per year\n",
    "replacement_frequency_years = 3  # Every 3 years\n",
    "\n",
    "# Calculate profit per unit\n",
    "profit_per_unit = cost_of_item * profit_margin\n",
    "\n",
    "# Calculate annual holding cost per unit\n",
    "annual_holding_cost_per_unit = cost_of_item * capital_cost_rate\n",
    "\n",
    "# Determine demand rate (item velocity) for profitability\n",
    "# For the specific case of Professor H's brake cylinder:\n",
    "# Demand rate is 1 unit per replacement frequency in years, converted to annual rate\n",
    "demand_rate = 1 / replacement_frequency_years\n",
    "\n",
    "# Calculate annual profit and annual holding cost for the demand rate\n",
    "annual_profit = profit_per_unit * demand_rate\n",
    "annual_holding_cost = annual_holding_cost_per_unit * demand_rate\n",
    "\n",
    "# Determine profitability\n",
    "profitability_threshold = annual_profit - annual_holding_cost\n",
    "\n",
    "# Print results with proper formatting\n",
    "print(\"Solution Part A:\")\n",
    "print(f\"Annual Profit per Unit: ${annual_profit:.2f}\")\n",
    "print(f\"Annual Holding Cost per Unit: ${annual_holding_cost:.2f}\")\n",
    "print(f\"Net Annual Profitability Threshold: ${profitability_threshold:.2f}\")\n",
    "\n",
    "# To determine if it's profitable to stock the item locally, compare the net annual profitability with zero\n",
    "if profitability_threshold > 0:\n",
    "    print(\"It is profitable to stock the item locally.\")\n",
    "else:\n",
    "    print(\"It is not profitable to stock the item locally.\")\n"
   ],
   "metadata": {
    "collapsed": false,
    "ExecuteTime": {
     "end_time": "2024-02-13T23:52:14.730814Z",
     "start_time": "2024-02-13T23:52:14.455480Z"
    }
   },
   "id": "2919fe08f1ba2f15",
   "execution_count": 1
  },
  {
   "cell_type": "code",
   "outputs": [
    {
     "name": "stdout",
     "output_type": "stream",
     "text": [
      "Solution Part B:\n",
      "Annual Holding Cost for Stocking Locally: $50.00\n",
      "Annual Ordering Cost for Special Orders: $16.67\n",
      "Ordering as needed (Special Orders) is more cost-effective.\n",
      "\n",
      "Alternative Strategies:\n",
      "1. Drop Shipping: Direct shipping from the supplier to the service location, minimizing inventory costs.\n",
      "2. Special Orders: Arrange quick procurement systems for when the need arises, potentially balancing lead time with minimal holding costs.\n"
     ]
    }
   ],
   "source": [
    "# Additional assumptions for part b\n",
    "ordering_cost = 50  # Cost per order\n",
    "lead_time_days = 2  # Lead time in days\n",
    "\n",
    "# Annual demand remains the same as calculated previously\n",
    "annual_demand_rate = demand_rate  # Reusing the demand rate from part a\n",
    "\n",
    "# Calculate total costs under different strategies\n",
    "# Strategy 1: Stock Locally\n",
    "# Already calculated: annual_holding_cost and annual_profit\n",
    "\n",
    "# Strategy 2: Order as Needed (Special Orders)\n",
    "# No holding cost, only ordering cost is applicable per occurrence\n",
    "annual_ordering_cost_special_order = ordering_cost * annual_demand_rate  # Once every 3 years\n",
    "\n",
    "# Print results for comparison\n",
    "print(\"Solution Part B:\")\n",
    "print(f\"Annual Holding Cost for Stocking Locally: ${annual_holding_cost:.2f}\")\n",
    "print(f\"Annual Ordering Cost for Special Orders: ${annual_ordering_cost_special_order:.2f}\")\n",
    "\n",
    "# Discuss the most cost-effective strategy under the given assumptions\n",
    "if annual_holding_cost < annual_ordering_cost_special_order:\n",
    "    print(\"Stocking the item locally is more cost-effective.\")\n",
    "else:\n",
    "    print(\"Ordering as needed (Special Orders) is more cost-effective.\")\n",
    "\n",
    "# Discuss alternatives\n",
    "print(\"\\nAlternative Strategies:\")\n",
    "print(\"1. Drop Shipping: Direct shipping from the supplier to the service location, minimizing inventory costs.\")\n",
    "print(\"2. Special Orders: Arrange quick procurement systems for when the need arises, potentially balancing lead time with minimal holding costs.\")\n"
   ],
   "metadata": {
    "collapsed": false,
    "ExecuteTime": {
     "end_time": "2024-02-13T23:52:14.736410Z",
     "start_time": "2024-02-13T23:52:14.732481Z"
    }
   },
   "id": "1586fd5f4e0269e7",
   "execution_count": 2
  },
  {
   "cell_type": "markdown",
   "source": [
    "### 2. Distribution center network  \n",
    "\n",
    "The existing national players seem to have a lot of distribution centers. Some have 25, some have over 50. Toni is wondering whether that is the right economic choice or whether that is a legacy issue (many of the existing players were created through mergers of smaller distributors)\n",
    "\n",
    "a. What are the tradeoff factors you would be considering for the network design? Which ones would you estimate are the dominant ones?   \n",
    "\n",
    "b. Estimate crudely how many DCs you would need in the in the continental United States (no Hawaii, no Alaska) to serve most stores in one day (say 8 hours driving time). How many DCs roughly would you need for 2 days (16 hours driving time). Don&#39;t go overboard, if you can&#39;t reach the middle of Wyoming in 8 hours, that&#39;s not a big deal. Google Maps can be helpful  \n",
    "\n",
    "c. With your answer in part (b), would you build a DC network that can serve stores in one day? Or rather 2 days? To justify your choice, consider the following numbers: O&#39;Reilly as per annual report has ~5000 stores, 27 DCs, about &#36;9bn in revenue, and maybe &#36;7bn in inventory (roughly estimated), you can assume that ~60% of the inventory sits in stores, assume fixed cost for a DC to be ~&#36;7m – DCs are expensive. Assume as in class that we are delivering with a truck per 12 stores, 3x a week, with a cost of &#36;1000/truck-day. Assume that AutoCo will be as large as O&#39;Reilly and incur an overall carrying cost of 10% per year."
   ],
   "metadata": {
    "collapsed": false
   },
   "id": "59f4658a3bbecfd6"
  },
  {
   "cell_type": "code",
   "outputs": [
    {
     "name": "stdout",
     "output_type": "stream",
     "text": [
      "Solution Part A:\n",
      "Tradeoff Factors for Network Design:\n",
      "\n",
      "1. Cost Considerations: Involves capital and operating costs, transportation costs, and inventory holding costs. \n",
      "   These are crucial as they directly affect the bottom line.\n",
      "\n",
      "2. Service Level Requirements: Includes delivery speed and product availability. \n",
      "   Essential for maintaining competitive advantage through customer satisfaction.\n",
      "\n",
      "3. Scalability and Flexibility: The network's adaptability to changes in demand or market conditions.\n",
      "\n",
      "4. Risk Management: Mitigating risks related to supply chain disruptions through diversified DC placement.\n",
      "\n",
      "Dominant Factors:\n",
      "\n",
      "- Cost Considerations and Service Level Requirements are often dominant, impacting economic viability and customer expectations.\n",
      "- Risk Management is increasingly critical for operational continuity.\n",
      "\n",
      "Conclusion:\n",
      "\n",
      "The optimal number of DCs is a balance between these tradeoffs, influenced by strategic objectives and evolving business needs. Historical network configurations, possibly due to mergers, should be re-evaluated for current economic and operational alignment.\n"
     ]
    }
   ],
   "source": [
    "# Generating a concise summary with a print statement for network design tradeoff factors and dominant ones\n",
    "print(\"Solution Part A:\")\n",
    "print(\"\"\"Tradeoff Factors for Network Design:\n",
    "\n",
    "1. Cost Considerations: Involves capital and operating costs, transportation costs, and inventory holding costs. \n",
    "   These are crucial as they directly affect the bottom line.\n",
    "\n",
    "2. Service Level Requirements: Includes delivery speed and product availability. \n",
    "   Essential for maintaining competitive advantage through customer satisfaction.\n",
    "\n",
    "3. Scalability and Flexibility: The network's adaptability to changes in demand or market conditions.\n",
    "\n",
    "4. Risk Management: Mitigating risks related to supply chain disruptions through diversified DC placement.\n",
    "\n",
    "Dominant Factors:\n",
    "\n",
    "- Cost Considerations and Service Level Requirements are often dominant, impacting economic viability and customer expectations.\n",
    "- Risk Management is increasingly critical for operational continuity.\n",
    "\n",
    "Conclusion:\n",
    "\n",
    "The optimal number of DCs is a balance between these tradeoffs, influenced by strategic objectives and evolving business needs. Historical network configurations, possibly due to mergers, should be re-evaluated for current economic and operational alignment.\"\"\")\n"
   ],
   "metadata": {
    "collapsed": false,
    "ExecuteTime": {
     "end_time": "2024-02-13T23:52:14.737297Z",
     "start_time": "2024-02-13T23:52:14.734690Z"
    }
   },
   "id": "7f1e40877b650e72",
   "execution_count": 3
  },
  {
   "cell_type": "code",
   "outputs": [
    {
     "name": "stdout",
     "output_type": "stream",
     "text": [
      "Solution Part B:\n",
      "Estimated Number of DCs needed for One-Day Service: 39\n",
      "Estimated Number of DCs needed for Two-Day Service: 10\n"
     ]
    }
   ],
   "source": [
    "import math\n",
    "\n",
    "# Constants\n",
    "continental_us_width = 3000  # miles\n",
    "continental_us_height = 1600  # miles\n",
    "average_driving_speed_mph = 50  # miles per hour\n",
    "one_day_driving_hours = 8  # hours\n",
    "two_day_driving_hours = 16  # hours\n",
    "\n",
    "# Calculate coverage radius for one-day and two-day service\n",
    "one_day_coverage_radius = average_driving_speed_mph * one_day_driving_hours / 2\n",
    "two_day_coverage_radius = average_driving_speed_mph * two_day_driving_hours / 2\n",
    "\n",
    "# Calculate area covered by one DC for one-day and two-day service\n",
    "one_day_dc_coverage_area = math.pi * (one_day_coverage_radius ** 2)\n",
    "two_day_dc_coverage_area = math.pi * (two_day_coverage_radius ** 2)\n",
    "\n",
    "# Calculate total area of the continental US\n",
    "continental_us_area = continental_us_width * continental_us_height\n",
    "\n",
    "# Estimate the number of DCs needed for one-day and two-day service\n",
    "number_of_dcs_one_day = continental_us_area / one_day_dc_coverage_area\n",
    "number_of_dcs_two_day = continental_us_area / two_day_dc_coverage_area\n",
    "\n",
    "# Output the results\n",
    "print(\"Solution Part B:\")\n",
    "print(f\"Estimated Number of DCs needed for One-Day Service: {math.ceil(number_of_dcs_one_day)}\")\n",
    "print(f\"Estimated Number of DCs needed for Two-Day Service: {math.ceil(number_of_dcs_two_day)}\")\n"
   ],
   "metadata": {
    "collapsed": false,
    "ExecuteTime": {
     "end_time": "2024-02-13T23:52:14.741110Z",
     "start_time": "2024-02-13T23:52:14.737310Z"
    }
   },
   "id": "efd1f0722a0b5342",
   "execution_count": 4
  },
  {
   "cell_type": "code",
   "outputs": [
    {
     "name": "stdout",
     "output_type": "stream",
     "text": [
      "Solution Part C:\n",
      "Annual Carrying Cost: $280,000,000.00\n",
      "Annual Delivery Cost: $65,000,000.00\n",
      "Total Cost for One-Day Service: $618,000,000.00\n",
      "Total Cost for Two-Day Service: $415,000,000.00\n",
      "A two-day service DC network is more cost-effective.\n"
     ]
    }
   ],
   "source": [
    "# Given data and assumptions\n",
    "total_inventory = 7e9  # $7bn\n",
    "inventory_in_DC_percentage = 0.40\n",
    "carrying_cost_rate = 0.10  # 10% per year\n",
    "fixed_cost_per_DC = 7e6  # $7m per DC\n",
    "stores = 5000\n",
    "deliveries_per_week_per_store = 3\n",
    "cost_per_truck_day = 1000\n",
    "stores_per_truck = 12\n",
    "\n",
    "# Estimated number of DCs needed for one-day and two-day service from part b\n",
    "dc_one_day = 39\n",
    "dc_two_day = 10\n",
    "\n",
    "# Calculate inventory in DCs\n",
    "inventory_in_DC = total_inventory * inventory_in_DC_percentage\n",
    "\n",
    "# Annual carrying cost for DC inventory\n",
    "annual_carrying_cost = inventory_in_DC * carrying_cost_rate\n",
    "\n",
    "# Calculate annual delivery costs\n",
    "truck_days_per_week = (stores / stores_per_truck) * deliveries_per_week_per_store\n",
    "annual_truck_days = truck_days_per_week * 52  # weeks in a year\n",
    "annual_delivery_cost = annual_truck_days * cost_per_truck_day\n",
    "\n",
    "# Fixed costs for DCs for one-day and two-day service scenarios\n",
    "fixed_costs_one_day = dc_one_day * fixed_cost_per_DC\n",
    "fixed_costs_two_day = dc_two_day * fixed_cost_per_DC\n",
    "\n",
    "# Total costs for one-day and two-day service scenarios\n",
    "total_cost_one_day = annual_carrying_cost + annual_delivery_cost + fixed_costs_one_day\n",
    "total_cost_two_day = annual_carrying_cost + annual_delivery_cost + fixed_costs_two_day\n",
    "\n",
    "# Print the results for comparison\n",
    "print(\"Solution Part C:\")\n",
    "print(f\"Annual Carrying Cost: ${annual_carrying_cost:,.2f}\")\n",
    "print(f\"Annual Delivery Cost: ${annual_delivery_cost:,.2f}\")\n",
    "print(f\"Total Cost for One-Day Service: ${total_cost_one_day:,.2f}\")\n",
    "print(f\"Total Cost for Two-Day Service: ${total_cost_two_day:,.2f}\")\n",
    "\n",
    "# Decision rationale\n",
    "if total_cost_one_day < total_cost_two_day:\n",
    "    print(\"A one-day service DC network is more cost-effective.\")\n",
    "else:\n",
    "    print(\"A two-day service DC network is more cost-effective.\")\n"
   ],
   "metadata": {
    "collapsed": false,
    "ExecuteTime": {
     "end_time": "2024-02-13T23:52:14.745364Z",
     "start_time": "2024-02-13T23:52:14.742450Z"
    }
   },
   "id": "ca061fac314fe73d",
   "execution_count": 5
  },
  {
   "cell_type": "markdown",
   "source": [
    "### 3. Design choice for batteries  \n",
    "\n",
    "AutoCo will sell car batteries from just one national supplier. Batteries are very heavy (40 lbs each), reasonably cheap (cost of &#36;50) and stores sell a lot. A truck can only carry 24000 pounds or 600 batteries, so a truck completely weighs out. If the average store sells 5 batteries a day, what flow would you design for batteries?"
   ],
   "metadata": {
    "collapsed": false
   },
   "id": "9ca06ee363d17d81"
  },
  {
   "cell_type": "code",
   "outputs": [
    {
     "name": "stdout",
     "output_type": "stream",
     "text": [
      "Solution Question 3:\n",
      "Weekly Demand per Store: 35 batteries\n",
      "Total Weekly Demand Across All Stores: 175,000 batteries\n",
      "Number of Truckloads Needed Per Week: 291.67\n",
      "Number of Stores Served Per Truck on a Bi-Weekly Delivery Schedule: 8.57\n"
     ]
    }
   ],
   "source": [
    "# Constants\n",
    "batteries_per_day_per_store = 5\n",
    "days_per_week = 7\n",
    "truck_capacity_batteries = 600\n",
    "number_of_stores = 5000  # Assuming AutoCo has ~5000 stores like O'Reilly\n",
    "\n",
    "# Weekly demand per store\n",
    "weekly_demand_per_store = batteries_per_day_per_store * days_per_week\n",
    "\n",
    "# Total weekly demand across all stores\n",
    "total_weekly_demand = weekly_demand_per_store * number_of_stores\n",
    "\n",
    "# Number of truckloads needed per week to supply all stores\n",
    "truckloads_per_week = total_weekly_demand / truck_capacity_batteries\n",
    "\n",
    "# Number of stores served per truck (bi-weekly delivery)\n",
    "stores_served_per_truck_biweekly = truck_capacity_batteries / (weekly_demand_per_store * 2)  # Two weeks worth of batteries\n",
    "\n",
    "# Print the results\n",
    "print(\"Solution Question 3:\")\n",
    "print(f\"Weekly Demand per Store: {weekly_demand_per_store} batteries\")\n",
    "print(f\"Total Weekly Demand Across All Stores: {total_weekly_demand:,} batteries\")\n",
    "print(f\"Number of Truckloads Needed Per Week: {truckloads_per_week:.2f}\")\n",
    "print(f\"Number of Stores Served Per Truck on a Bi-Weekly Delivery Schedule: {stores_served_per_truck_biweekly:.2f}\")\n"
   ],
   "metadata": {
    "collapsed": false,
    "ExecuteTime": {
     "end_time": "2024-02-13T23:52:14.749322Z",
     "start_time": "2024-02-13T23:52:14.745111Z"
    }
   },
   "id": "d95233ab2214224c",
   "execution_count": 6
  }
 ],
 "metadata": {
  "kernelspec": {
   "display_name": "Python 3",
   "language": "python",
   "name": "python3"
  },
  "language_info": {
   "codemirror_mode": {
    "name": "ipython",
    "version": 2
   },
   "file_extension": ".py",
   "mimetype": "text/x-python",
   "name": "python",
   "nbconvert_exporter": "python",
   "pygments_lexer": "ipython2",
   "version": "2.7.6"
  }
 },
 "nbformat": 4,
 "nbformat_minor": 5
}
